{
 "cells": [
  {
   "cell_type": "code",
   "execution_count": 3,
   "id": "4b135d94-82af-4dce-bba2-a67920cb4bf0",
   "metadata": {},
   "outputs": [
    {
     "name": "stdout",
     "output_type": "stream",
     "text": [
      "       EEID        Full Name                 Job Title  Department  \\\n",
      "0    E02387      Emily Davis                Sr. Manger          IT   \n",
      "1    E04105    Theodore Dinh       Technical Architect          IT   \n",
      "2    E02572     Luna Sanders                  Director     Finance   \n",
      "3    E02832  Penelope Jordan  Computer Systems Manager          IT   \n",
      "4    E01639        Austin Vo               Sr. Analyst     Finance   \n",
      "..      ...              ...                       ...         ...   \n",
      "995  E03094     Wesley Young               Sr. Analyst   Marketing   \n",
      "996  E01909     Lillian Khan                   Analyst     Finance   \n",
      "997  E04398      Oliver Yang                  Director   Marketing   \n",
      "998  E02521      Lily Nguyen               Sr. Analyst     Finance   \n",
      "999  E03545      Sofia Cheng            Vice President  Accounting   \n",
      "\n",
      "              Business Unit  Gender  Ethnicity  Age  Hire Date  Annual Salary  \\\n",
      "0    Research & Development  Female      Black   55 2016-04-08         141604   \n",
      "1             Manufacturing    Male      Asian   59 1997-11-29          99975   \n",
      "2       Speciality Products  Female  Caucasian   50 2006-10-26         163099   \n",
      "3             Manufacturing  Female  Caucasian   26 2019-09-27          84913   \n",
      "4             Manufacturing    Male      Asian   55 1995-11-20          95409   \n",
      "..                      ...     ...        ...  ...        ...            ...   \n",
      "995     Speciality Products    Male  Caucasian   33 2016-09-18          98427   \n",
      "996     Speciality Products  Female      Asian   44 2010-05-31          47387   \n",
      "997     Speciality Products    Male      Asian   31 2019-06-10         176710   \n",
      "998     Speciality Products  Female      Asian   33 2012-01-28          95960   \n",
      "999               Corporate  Female      Asian   63 2020-07-26         216195   \n",
      "\n",
      "     Bonus %        Country       City  Exit Date  \n",
      "0       0.15  United States    Seattle 2021-10-16  \n",
      "1       0.00          China  Chongqing        NaT  \n",
      "2       0.20  United States    Chicago        NaT  \n",
      "3       0.07  United States    Chicago        NaT  \n",
      "4       0.00  United States    Phoenix        NaT  \n",
      "..       ...            ...        ...        ...  \n",
      "995     0.00  United States   Columbus        NaT  \n",
      "996     0.00          China    Chengdu 2018-01-08  \n",
      "997     0.15  United States      Miami        NaT  \n",
      "998     0.00          China    Chengdu        NaT  \n",
      "999     0.31  United States      Miami        NaT  \n",
      "\n",
      "[1000 rows x 14 columns]\n"
     ]
    }
   ],
   "source": [
    "import pandas as pd\n",
    "data=pd.read_excel(\"DataSets/ESD.xlsx\")\n",
    "print(data)"
   ]
  },
  {
   "cell_type": "code",
   "execution_count": 4,
   "id": "e26ee68b-ef3f-4e4e-85dd-7c7c71f53ae9",
   "metadata": {},
   "outputs": [
    {
     "name": "stdout",
     "output_type": "stream",
     "text": [
      "                 Gender\n",
      "Department             \n",
      "Accounting           96\n",
      "Engineering         158\n",
      "Finance             120\n",
      "Human Resources     125\n",
      "IT                  241\n",
      "Marketing           120\n",
      "Sales               140\n"
     ]
    }
   ],
   "source": [
    "gp=data.groupby(\"Department\").agg({\"Gender\":\"count\"})\n",
    "print(gp)"
   ]
  },
  {
   "cell_type": "code",
   "execution_count": 5,
   "id": "b5441d84-6203-4694-bd30-40860d9d70c2",
   "metadata": {},
   "outputs": [
    {
     "name": "stdout",
     "output_type": "stream",
     "text": [
      "                                EEID\n",
      "Job Title                           \n",
      "Account Representative            21\n",
      "Analyst                           51\n",
      "Analyst II                        53\n",
      "Automation Engineer                7\n",
      "Business Partner                  19\n",
      "Cloud Infrastructure Architect    15\n",
      "Computer Systems Manager          21\n",
      "Controls Engineer                 15\n",
      "Development Engineer              19\n",
      "Director                         121\n",
      "Engineering Manager               20\n",
      "Enterprise Architect              18\n",
      "Field Engineer                    21\n",
      "HRIS Analyst                      16\n",
      "IT Coordinator                    11\n",
      "IT Systems Architect              12\n",
      "Manager                           98\n",
      "Network Administrator             10\n",
      "Network Architect                 18\n",
      "Network Engineer                   7\n",
      "Operations Engineer               12\n",
      "Quality Engineer                  20\n",
      "Service Desk Analyst              10\n",
      "Solutions Architect               15\n",
      "Sr. Account Representative         9\n",
      "Sr. Analyst                       70\n",
      "Sr. Business Partner              17\n",
      "Sr. Manger                       110\n",
      "System Administrator              15\n",
      "Systems Analyst                   15\n",
      "Technical Architect               17\n",
      "Test Engineer                     12\n",
      "Vice President                   105\n"
     ]
    }
   ],
   "source": [
    "gp=data.groupby(\"Job Title\").agg({\"EEID\":\"count\"})\n",
    "print(gp)"
   ]
  },
  {
   "cell_type": "code",
   "execution_count": 11,
   "id": "a3b36562-3a85-4c0e-b015-46cd4ef6dfe2",
   "metadata": {},
   "outputs": [
    {
     "name": "stdout",
     "output_type": "stream",
     "text": [
      "                        EEID\n",
      "Department      Gender      \n",
      "Accounting      Female    53\n",
      "                Male      43\n",
      "Engineering     Female    80\n",
      "                Male      78\n",
      "Finance         Female    69\n",
      "                Male      51\n",
      "Human Resources Female    64\n",
      "                Male      61\n",
      "IT              Female   119\n",
      "                Male     122\n",
      "Marketing       Female    57\n",
      "                Male      63\n",
      "Sales           Female    76\n",
      "                Male      64\n"
     ]
    }
   ],
   "source": [
    "gp=data.groupby([\"Department\",\"Gender\",\"\"]).agg({\"EEID\":\"count\"})\n",
    "print(gp)"
   ]
  },
  {
   "cell_type": "code",
   "execution_count": 12,
   "id": "bca37b63-af7d-429d-9127-c65c99f48410",
   "metadata": {},
   "outputs": [
    {
     "name": "stdout",
     "output_type": "stream",
     "text": [
      "                     Age\n",
      "Country                 \n",
      "Brazil         43.654676\n",
      "China          45.389908\n",
      "United States  44.197512\n"
     ]
    }
   ],
   "source": [
    "gp1=data.groupby(\"Country\").agg({\"Age\":\"mean\"})\n",
    "print(gp1)"
   ]
  },
  {
   "cell_type": "code",
   "execution_count": 30,
   "id": "705ad38c-7b12-463e-b3cf-d0d0a79094ff",
   "metadata": {},
   "outputs": [
    {
     "name": "stdout",
     "output_type": "stream",
     "text": [
      "                                                                       Age\n",
      "Full Name          Gender Country       City           Annual Salary      \n",
      "Aaliyah Mai        Female United States Phoenix        246589         57.0\n",
      "Aaron Garza        Male   United States Columbus       165756         39.0\n",
      "Aaron Maldonado    Male   United States Seattle        62861          39.0\n",
      "Abigail Garza      Female United States Seattle        45049          33.0\n",
      "Abigail Mejia      Female Brazil        Rio de Janerio 98581          56.0\n",
      "Abigail Vang       Female China         Chengdu        109680         40.0\n",
      "Adam Dang          Male   China         Chongqing      166331         45.0\n",
      "Adam Espinoza      Male   United States Seattle        60055          36.0\n",
      "Adam He            Male   China         Beijing        181356         35.0\n",
      "Adam Kaur          Male   China         Chengdu        109059         60.0\n",
      "Adam Nelson        Male   United States Chicago        168014         25.0\n",
      "Addison Do         Female United States Columbus       90678          46.0\n",
      "Addison Mehta      Female United States Columbus       127616         27.0\n",
      "Addison Perez      Female Brazil        Sao Paulo      123588         29.0\n",
      "Addison Roberts    Female United States Seattle        60985          65.0\n",
      "Adeline Huang      Female China         Chengdu        99989          34.0\n",
      "Adeline Thao       Female United States Seattle        183239         54.0\n",
      "Adeline Yang       Female China         Chongqing      86173          53.0\n",
      "Adrian Fernandez   Male   United States Columbus       54994          45.0\n",
      "Adrian Ruiz        Male   Brazil        Sao Paulo      95499          34.0\n",
      "Aiden Bryant       Male   United States Columbus       70122          47.0\n",
      "Aiden Gonzales     Male   Brazil        Sao Paulo      186033         44.0\n",
      "Aiden Le           Male   United States Austin         99774          55.0\n",
      "Aiden Silva        Male   Brazil        Manaus         186725         42.0\n",
      "Alexander Bryant   Male   United States Seattle        88758          30.0\n",
      "Alexander Choi     Male   United States Chicago        102270         55.0\n",
      "Alexander Foster   Male   United States Columbus       51513          35.0\n",
      "Alexander Gonzales Male   United States Phoenix        128329         34.0\n",
      "Alexander Jackson  Male   United States Columbus       109883         45.0\n",
      "Alexander James    Male   United States Columbus       131179         42.0\n",
      "Alexander Morris   Male   United States Phoenix        119631         33.0\n",
      "Alexander Rivera   Male   Brazil        Manaus         76802          58.0\n",
      "Alice Lopez        Female United States Seattle        82907          48.0\n",
      "Alice Mehta        Female China         Beijing        52621          45.0\n",
      "Alice Roberts      Female United States Miami          162978         54.0\n",
      "Alice Soto         Female Brazil        Manaus         50857          56.0\n",
      "Alice Thompson     Female United States Seattle        217783         48.0\n",
      "Alice Tran         Female United States Seattle        40897          39.0\n",
      "Alice Xiong        Female China         Chengdu        221465         55.0\n",
      "Alice Young        Female United States Chicago        91621          46.0\n",
      "Allison Ayala      Female United States Austin         43363          36.0\n",
      "Allison Daniels    Female United States Phoenix        103524         37.0\n",
      "Allison Espinoza   Female United States Miami          66958          45.0\n",
      "Allison Leung      Female United States Austin         97830          62.0\n",
      "Allison Medina     Female Brazil        Sao Paulo      111038         55.0\n",
      "Allison Roberts    Female United States Columbus       222224         54.0\n",
      "Amelia Bell        Female United States Seattle        89769          53.0\n",
      "Amelia Bui         Female China         Chengdu        151853         46.0\n",
      "Amelia Choi        Female United States Miami          117278         43.0\n",
      "Amelia Kaur        Female United States Columbus       77442          30.0\n"
     ]
    }
   ],
   "source": [
    "gp2=data.groupby([\"Full Name\",\"Gender\",\"Country\",\"City\",\"Annual Salary\"]).agg({\"Age\":\"mean\"},{\"Annul Salary\":\"mean\"}).head(50)\n",
    "print(gp2)"
   ]
  },
  {
   "cell_type": "markdown",
   "id": "a535a118-ba11-4909-810e-ad5f9545aed9",
   "metadata": {},
   "source": [
    "# "
   ]
  },
  {
   "cell_type": "code",
   "execution_count": 32,
   "id": "efde8a20-be7f-43bd-950e-465c27292a77",
   "metadata": {},
   "outputs": [
    {
     "name": "stdout",
     "output_type": "stream",
     "text": [
      "               Annual Salary\n",
      "Country                     \n",
      "Brazil                258426\n",
      "China                 257194\n",
      "United States         258498\n"
     ]
    }
   ],
   "source": [
    "gp1=data.groupby(\"Country\").agg({\"Annual Salary\":\"max\"})\n",
    "print(gp1)"
   ]
  },
  {
   "cell_type": "code",
   "execution_count": 34,
   "id": "0b78d8f3-b312-4e0a-a931-ca19e60cb082",
   "metadata": {},
   "outputs": [
    {
     "name": "stdout",
     "output_type": "stream",
     "text": [
      "                      Annual Salary  Age\n",
      "Country       Gender                    \n",
      "Brazil        Female         258426   25\n",
      "              Male           249506   26\n",
      "China         Female         249686   25\n",
      "              Male           257194   25\n",
      "United States Female         258498   25\n",
      "              Male           258081   25\n"
     ]
    }
   ],
   "source": [
    "gp1=data.groupby([\"Country\",\"Gender\"]).agg({\"Annual Salary\":\"max\",\"Age\":\"min\"})\n",
    "print(gp1)"
   ]
  }
 ],
 "metadata": {
  "kernelspec": {
   "display_name": "Python 3 (ipykernel)",
   "language": "python",
   "name": "python3"
  },
  "language_info": {
   "codemirror_mode": {
    "name": "ipython",
    "version": 3
   },
   "file_extension": ".py",
   "mimetype": "text/x-python",
   "name": "python",
   "nbconvert_exporter": "python",
   "pygments_lexer": "ipython3",
   "version": "3.12.2"
  }
 },
 "nbformat": 4,
 "nbformat_minor": 5
}
