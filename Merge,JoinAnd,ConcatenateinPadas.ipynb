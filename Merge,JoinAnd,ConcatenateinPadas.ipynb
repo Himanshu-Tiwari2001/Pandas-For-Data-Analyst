{
 "cells": [
  {
   "cell_type": "code",
   "execution_count": 3,
   "id": "c468957b-c36b-433b-8826-1c227ea58fd9",
   "metadata": {},
   "outputs": [
    {
     "name": "stdout",
     "output_type": "stream",
     "text": [
      "  Emp Id   Names  Age\n",
      "0    E01    ram    34\n",
      "1    E02  Shyam,   56\n",
      "2    EO3   Rahul   23\n",
      "3    EO4  Vishal   44\n",
      "4    E05    John   32\n",
      "5    E06    Ravi   36\n",
      "--------------------------\n",
      "  Emp Id  Salary\n",
      "0    E01    3400\n",
      "1    E02    5600\n",
      "2    EO3    2300\n",
      "3    EO4    4400\n",
      "4    E05    3200\n",
      "5    E06    3600\n"
     ]
    }
   ],
   "source": [
    "import pandas as pd\n",
    "\n",
    "data1={ \"Emp Id\":[\"E01\",\"E02\",\"EO3\",\"EO4\",\"E05\",\"E06\"],\n",
    "       \"Names\":[\"ram \",\"Shyam,\",\"Rahul\",\"Vishal\",\"John\",\"Ravi\"],\n",
    "       \"Age\":[34,56,23,44,32,36],\n",
    "    \n",
    "}\n",
    "data2={ \"Emp Id\":[\"E01\",\"E02\",\"EO3\",\"EO4\",\"E05\",\"E06\"],\n",
    "       \"Salary\":[3400,5600,2300,4400,3200,3600], }\n",
    "df1=pd.DataFrame(data1)\n",
    "df2=pd.DataFrame(data2)\n",
    "\n",
    "\n",
    "print(df1)\n",
    "print(\"--------------------------\")\n",
    "print(df2)\n"
   ]
  },
  {
   "cell_type": "code",
   "execution_count": 5,
   "id": "5955249a-bc66-4764-bcfd-9770d7bbfd13",
   "metadata": {},
   "outputs": [
    {
     "name": "stdout",
     "output_type": "stream",
     "text": [
      "  Emp Id   Names  Age  Salary\n",
      "0    E01    ram    34    3400\n",
      "1    E02  Shyam,   56    5600\n",
      "2    EO3   Rahul   23    2300\n",
      "3    EO4  Vishal   44    4400\n",
      "4    E05    John   32    3200\n",
      "5    E06    Ravi   36    3600\n"
     ]
    }
   ],
   "source": [
    "print(pd.merge(df1,df2,on=\"Emp Id\"))"
   ]
  },
  {
   "cell_type": "code",
   "execution_count": 11,
   "id": "87a8ff4f-dac8-4226-837e-487d3827532e",
   "metadata": {},
   "outputs": [
    {
     "name": "stdout",
     "output_type": "stream",
     "text": [
      "  Emp Id   Names  Age\n",
      "0    E01    ram    34\n",
      "1    E02  Shyam,   56\n",
      "2    EO3   Rahul   23\n",
      "3    EO4  Vishal   44\n",
      "4    E05    John   32\n",
      "5    E06    Ravi   36\n",
      "  Emp Id  Salary\n",
      "0    E01    3400\n",
      "1    E07    5600\n",
      "2    EO3    2300\n",
      "3    EO4    4400\n",
      "4    E08    3200\n",
      "5    E06    3600\n"
     ]
    }
   ],
   "source": [
    "#what if there is null value\n",
    "\n",
    "data3={ \"Emp Id\":[\"E01\",\"E02\",\"EO3\",\"EO4\",\"E05\",\"E06\"],\n",
    "       \"Names\":[\"ram \",\"Shyam,\",\"Rahul\",\"Vishal\",\"John\",\"Ravi\"],\n",
    "       \"Age\":[34,56,23,44,32,36],\n",
    "    \n",
    "}\n",
    "data4={ \"Emp Id\":[\"E01\",\"E07\",\"EO3\",\"EO4\",\"E08\",\"E06\"], #here E07and  E08 is not available\n",
    "       \"Salary\":[3400,5600,2300,4400,3200,3600], }\n",
    "df3=pd.DataFrame(data3)\n",
    "df4=pd.DataFrame(data4)\n",
    "print(df3)\n",
    "print(df4)"
   ]
  },
  {
   "cell_type": "code",
   "execution_count": 13,
   "id": "ecb38cb2-2575-480e-807f-aa5d46dc654f",
   "metadata": {},
   "outputs": [
    {
     "name": "stdout",
     "output_type": "stream",
     "text": [
      "  Emp Id   Names  Age  Salary\n",
      "0    E01    ram    34  3400.0\n",
      "1    E02  Shyam,   56     NaN\n",
      "2    EO3   Rahul   23  2300.0\n",
      "3    EO4  Vishal   44  4400.0\n",
      "4    E05    John   32     NaN\n",
      "5    E06    Ravi   36  3600.0\n"
     ]
    }
   ],
   "source": [
    "print(pd.merge(left=df3,right=df4,on =\"Emp Id\" ,how=\"left\"))"
   ]
  },
  {
   "cell_type": "code",
   "execution_count": 14,
   "id": "a1657d8e-be5e-4859-9e4d-42e7115107c4",
   "metadata": {},
   "outputs": [
    {
     "name": "stdout",
     "output_type": "stream",
     "text": [
      "  Emp Id   Names   Age  Salary\n",
      "0    E01    ram   34.0    3400\n",
      "1    E07     NaN   NaN    5600\n",
      "2    EO3   Rahul  23.0    2300\n",
      "3    EO4  Vishal  44.0    4400\n",
      "4    E08     NaN   NaN    3200\n",
      "5    E06    Ravi  36.0    3600\n"
     ]
    }
   ],
   "source": [
    "print(pd.merge(left=df3,right=df4,on =\"Emp Id\" ,how=\"right\"))"
   ]
  },
  {
   "cell_type": "code",
   "execution_count": 16,
   "id": "74a1d283-e2f9-499e-9eb6-891cfa317beb",
   "metadata": {},
   "outputs": [
    {
     "name": "stdout",
     "output_type": "stream",
     "text": [
      "  Emp Id    Names  Age\n",
      "0    E01     ram    34\n",
      "1    E02   Shyam,   56\n",
      "2    EO3    Rahul   23\n",
      "3    EO4   Vishal   44\n",
      "4    E05     John   32\n",
      "5    E06     Ravi   36\n",
      "0    E07    Rohit   38\n",
      "1    E08    Virat   36\n",
      "2    EO9   Rahul    32\n",
      "3    E10   Dravid   48\n",
      "4    E11  jaiswal   22\n",
      "5    E12     Pant   28\n"
     ]
    }
   ],
   "source": [
    "data5={ \"Emp Id\":[\"E01\",\"E02\",\"EO3\",\"EO4\",\"E05\",\"E06\"],\n",
    "       \"Names\":[\"ram \",\"Shyam,\",\"Rahul\",\"Vishal\",\"John\",\"Ravi\"],\n",
    "       \"Age\":[34,56,23,44,32,36],\n",
    "    \n",
    "}\n",
    "data6={ \"Emp Id\":[\"E07\",\"E08\",\"EO9\",\"E10\",\"E11\",\"E12\"],\n",
    "       \"Names\":[\"Rohit\",\"Virat\",\"Rahul \",\"Dravid\",\"jaiswal\",\"Pant\"],\n",
    "      \"Age\":[38,36,32,48,22,28], }\n",
    "df5=pd.DataFrame(data5)\n",
    "df6=pd.DataFrame(data6)\n",
    "print(pd.concat([df5,df6]))"
   ]
  }
 ],
 "metadata": {
  "kernelspec": {
   "display_name": "Python 3 (ipykernel)",
   "language": "python",
   "name": "python3"
  },
  "language_info": {
   "codemirror_mode": {
    "name": "ipython",
    "version": 3
   },
   "file_extension": ".py",
   "mimetype": "text/x-python",
   "name": "python",
   "nbconvert_exporter": "python",
   "pygments_lexer": "ipython3",
   "version": "3.12.2"
  }
 },
 "nbformat": 4,
 "nbformat_minor": 5
}
