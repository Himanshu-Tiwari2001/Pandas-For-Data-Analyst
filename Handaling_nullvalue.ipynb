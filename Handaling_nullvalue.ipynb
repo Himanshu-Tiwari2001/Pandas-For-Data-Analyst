{
 "cells": [
  {
   "cell_type": "code",
   "execution_count": 15,
   "id": "cd5b5c30-c359-4baf-8465-bd7ecb06a173",
   "metadata": {},
   "outputs": [
    {
     "name": "stdout",
     "output_type": "stream",
     "text": [
      "  Username; Identifier;First name;Last name\n",
      "0               booker12;9012;Rachel;Booker\n",
      "1                    grey07;2070;Laura;Grey\n",
      "2              johnson81;4081;Craig;Johnson\n",
      "3               jenkins46;9346;Mary;Jenkins\n",
      "4                  smith79;5079;Jamie;Smith\n"
     ]
    }
   ],
   "source": [
    "import pandas as pd\n",
    "data = pd.read_csv(\"username.csv\")\n",
    "print(data)"
   ]
  },
  {
   "cell_type": "raw",
   "id": "5100db17-1cf7-46d8-a28f-da478aa65955",
   "metadata": {},
   "source": []
  }
 ],
 "metadata": {
  "kernelspec": {
   "display_name": "Python 3 (ipykernel)",
   "language": "python",
   "name": "python3"
  },
  "language_info": {
   "codemirror_mode": {
    "name": "ipython",
    "version": 3
   },
   "file_extension": ".py",
   "mimetype": "text/x-python",
   "name": "python",
   "nbconvert_exporter": "python",
   "pygments_lexer": "ipython3",
   "version": "3.12.2"
  }
 },
 "nbformat": 4,
 "nbformat_minor": 5
}
