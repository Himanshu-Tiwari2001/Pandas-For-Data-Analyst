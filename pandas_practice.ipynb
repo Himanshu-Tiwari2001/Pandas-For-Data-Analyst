{
 "cells": [
  {
   "cell_type": "code",
   "execution_count": 6,
   "id": "3f191171-fe62-4629-a3a0-c31ffc5a8852",
   "metadata": {},
   "outputs": [
    {
     "name": "stdout",
     "output_type": "stream",
     "text": [
      "    Name  Age  Salary\n",
      "0   John   25   25000\n",
      "1  Peter   28   30000\n",
      "2   Lisa   31   35000\n"
     ]
    }
   ],
   "source": [
    "import pandas as pd\n",
    "data={\"Name\":[\"John\",\"Peter\",\"Lisa\"],\n",
    "      \"Age\":[25,28,31],\n",
    "      \"Salary\":[25000,30000,35000]}\n",
    "df=pd.DataFrame(data)\n",
    "print(df)"
   ]
  },
  {
   "cell_type": "code",
   "execution_count": 22,
   "id": "026ee8c0-24f3-46d8-bdee-635385c5e8ab",
   "metadata": {},
   "outputs": [
    {
     "name": "stdout",
     "output_type": "stream",
     "text": [
      "  Username; Identifier;First name;Last name\n",
      "0               booker12;9012;Rachel;Booker\n",
      "1                    grey07;2070;Laura;Grey\n",
      "2              johnson81;4081;Craig;Johnson\n",
      "3               jenkins46;9346;Mary;Jenkins\n",
      "4                  smith79;5079;Jamie;Smith\n"
     ]
    }
   ],
   "source": [
    "data = pd.read_csv(\"username.csv\")\n",
    "print(data)"
   ]
  },
  {
   "cell_type": "code",
   "execution_count": 19,
   "id": "0818475f-e8f5-4bd6-a255-e5192ffefc0b",
   "metadata": {},
   "outputs": [
    {
     "name": "stdout",
     "output_type": "stream",
     "text": [
      "  Username;Login email;Identifier;First name;Last name\n",
      "0     booker12;rachel@example.com;9012;Rachel;Booker  \n",
      "1                            grey07;;2070;Laura;Grey  \n",
      "2                      johnson81;;4081;Craig;Johnson  \n",
      "3       jenkins46;mary@example.com;9346;Mary;Jenkins  \n",
      "4         smith79;jamie@example.com;5079;Jamie;Smith  \n"
     ]
    }
   ],
   "source": [
    "data = pd.read_csv(\"D:/DOWNLOAD/username-or-email.csv\")\n",
    "print(data)"
   ]
  },
  {
   "cell_type": "code",
   "execution_count": 23,
   "id": "53e41597-6bb0-4253-a50f-71434b7df4be",
   "metadata": {},
   "outputs": [
    {
     "name": "stdout",
     "output_type": "stream",
     "text": [
      "       year industry_code_ANZSIC               industry_name_ANZSIC  \\\n",
      "0      2011                    A  Agriculture, Forestry and Fishing   \n",
      "1      2011                    A  Agriculture, Forestry and Fishing   \n",
      "2      2011                    A  Agriculture, Forestry and Fishing   \n",
      "3      2011                    A  Agriculture, Forestry and Fishing   \n",
      "4      2011                    A  Agriculture, Forestry and Fishing   \n",
      "...     ...                  ...                                ...   \n",
      "20119  2023                  all                     All Industries   \n",
      "20120  2023                  all                     All Industries   \n",
      "20121  2023                  all                     All Industries   \n",
      "20122  2023                  all                     All Industries   \n",
      "20123  2023                  all                     All Industries   \n",
      "\n",
      "        rme_size_grp                                         variable  \\\n",
      "0                a_0                                    Activity unit   \n",
      "1                a_0                           Rolling mean employees   \n",
      "2                a_0                          Salaries and wages paid   \n",
      "3                a_0  Sales, government funding, grants and subsidies   \n",
      "4                a_0                                     Total income   \n",
      "...              ...                                              ...   \n",
      "20119  j_Grand_Total                                     Total income   \n",
      "20120  j_Grand_Total                                Total expenditure   \n",
      "20121  j_Grand_Total                      Operating profit before tax   \n",
      "20122  j_Grand_Total                                     Total assets   \n",
      "20123  j_Grand_Total                            Fixed tangible assets   \n",
      "\n",
      "         value               unit  \n",
      "0        46134              COUNT  \n",
      "1            0              COUNT  \n",
      "2          279  DOLLARS(millions)  \n",
      "3         8187  DOLLARS(millions)  \n",
      "4         8866  DOLLARS(millions)  \n",
      "...        ...                ...  \n",
      "20119   930995  DOLLARS(millions)  \n",
      "20120   832964  DOLLARS(millions)  \n",
      "20121   103616  DOLLARS(millions)  \n",
      "20122  2831894  DOLLARS(millions)  \n",
      "20123   681890  DOLLARS(millions)  \n",
      "\n",
      "[20124 rows x 7 columns]\n"
     ]
    }
   ],
   "source": [
    "data = pd.read_csv(\"annual-enterprise-survey.csv\")\n",
    "print(data)"
   ]
  },
  {
   "cell_type": "raw",
   "id": "3f667723-ee2c-4244-9aa4-9ab4ae7b12ff",
   "metadata": {},
   "source": []
  },
  {
   "cell_type": "code",
   "execution_count": null,
   "id": "b48a174b-db63-436e-8b73-ebd281f9c090",
   "metadata": {},
   "outputs": [],
   "source": [
    "#handaling duplicates value  in pandas"
   ]
  },
  {
   "cell_type": "code",
   "execution_count": 27,
   "id": "7cbe5a7a-938d-49c9-add1-d503b8eef340",
   "metadata": {},
   "outputs": [
    {
     "name": "stdout",
     "output_type": "stream",
     "text": [
      "0        False\n",
      "1         True\n",
      "2         True\n",
      "3         True\n",
      "4         True\n",
      "         ...  \n",
      "20119     True\n",
      "20120     True\n",
      "20121     True\n",
      "20122     True\n",
      "20123     True\n",
      "Name: industry_name_ANZSIC, Length: 20124, dtype: bool\n"
     ]
    }
   ],
   "source": [
    "print(data[\"industry_name_ANZSIC\"].duplicated())"
   ]
  },
  {
   "cell_type": "code",
   "execution_count": 30,
   "id": "9214a882-cc55-4583-9e09-31dfe63a204f",
   "metadata": {},
   "outputs": [
    {
     "name": "stdout",
     "output_type": "stream",
     "text": [
      "20104\n"
     ]
    }
   ],
   "source": [
    "print(data[\"industry_name_ANZSIC\"].duplicated().sum())"
   ]
  },
  {
   "cell_type": "code",
   "execution_count": 33,
   "id": "14444d9b-e9a9-40de-a30d-8801cc27dfa5",
   "metadata": {},
   "outputs": [
    {
     "name": "stdout",
     "output_type": "stream",
     "text": [
      "      year industry_code_ANZSIC               industry_name_ANZSIC  \\\n",
      "0     2011                    A  Agriculture, Forestry and Fishing   \n",
      "9     2011                    A  Agriculture, Forestry and Fishing   \n",
      "18    2011                    A  Agriculture, Forestry and Fishing   \n",
      "27    2011                    A  Agriculture, Forestry and Fishing   \n",
      "36    2011                    A  Agriculture, Forestry and Fishing   \n",
      "45    2011                    A  Agriculture, Forestry and Fishing   \n",
      "54    2011                    A  Agriculture, Forestry and Fishing   \n",
      "63    2011                    A  Agriculture, Forestry and Fishing   \n",
      "72    2011                    A  Agriculture, Forestry and Fishing   \n",
      "1539  2011                  all                     All Industries   \n",
      "\n",
      "          rme_size_grp       variable   value   unit  \n",
      "0                  a_0  Activity unit   46134  COUNT  \n",
      "9                b_1-5  Activity unit   21777  COUNT  \n",
      "18               c_6-9  Activity unit    1965  COUNT  \n",
      "27             d_10-19  Activity unit    1140  COUNT  \n",
      "36             e_20-49  Activity unit     480  COUNT  \n",
      "45             f_50-99  Activity unit     111  COUNT  \n",
      "54           g_100-199  Activity unit      27  COUNT  \n",
      "63              h_200+  Activity unit      15  COUNT  \n",
      "72    i_Industry_Total  Activity unit   71652  COUNT  \n",
      "1539     j_Grand_Total  Activity unit  438321  COUNT  \n"
     ]
    }
   ],
   "source": [
    "print(data.drop_duplicates(\"rme_size_grp\"))"
   ]
  },
  {
   "cell_type": "code",
   "execution_count": null,
   "id": "c917fa0f-42d7-4fed-bcaf-66a0f077c5de",
   "metadata": {},
   "outputs": [],
   "source": [
    "#working with missing data in pandas"
   ]
  }
 ],
 "metadata": {
  "kernelspec": {
   "display_name": "Python 3 (ipykernel)",
   "language": "python",
   "name": "python3"
  },
  "language_info": {
   "codemirror_mode": {
    "name": "ipython",
    "version": 3
   },
   "file_extension": ".py",
   "mimetype": "text/x-python",
   "name": "python",
   "nbconvert_exporter": "python",
   "pygments_lexer": "ipython3",
   "version": "3.12.2"
  }
 },
 "nbformat": 4,
 "nbformat_minor": 5
}
