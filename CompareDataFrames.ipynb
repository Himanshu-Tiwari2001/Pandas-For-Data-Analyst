{
 "cells": [
  {
   "cell_type": "code",
   "execution_count": 2,
   "id": "3e018b80-cf3f-4f44-af2a-0e611f95b098",
   "metadata": {},
   "outputs": [
    {
     "name": "stdout",
     "output_type": "stream",
     "text": [
      "   Fruits  Price  Quantity\n",
      "0   mango    100        15\n",
      "1  apples    150        10\n",
      "2  banana     60        10\n",
      "3  papaya    124         4\n"
     ]
    }
   ],
   "source": [
    "import pandas as pd\n",
    "\n",
    "dict={\n",
    "    \"Fruits\":[\"mango\",\"apples\",\"banana\",\"papaya\"],\n",
    "    \"Price\":[100,150,60,124],\n",
    "    \"Quantity\":[15,10,10,4],\n",
    "}\n",
    "\n",
    "df=pd.DataFrame(dict)\n",
    "print(df)"
   ]
  },
  {
   "cell_type": "code",
   "execution_count": 7,
   "id": "f28a8e97-e6c0-4e4e-99f8-fd2e9dff6f26",
   "metadata": {},
   "outputs": [
    {
     "name": "stdout",
     "output_type": "stream",
     "text": [
      "   Fruits  Price  Quantity\n",
      "0   mango    100        15\n",
      "1  apples    150        10\n",
      "2  banana     60        10\n",
      "3  papaya    124         4\n",
      "..........................\n",
      "   Fruits  Price  Quantity\n",
      "0   mango    120        20\n",
      "1  apples    175        35\n",
      "2  banana     60        10\n",
      "3  papaya     30        30\n"
     ]
    }
   ],
   "source": [
    " df2=df.copy()\n",
    "print(df)\n",
    "print(\"..........................\")\n",
    "\n",
    "df2.loc[0,\"Price\"]=120\n",
    "df2.loc[1,\"Price\"]=175\n",
    "df2.loc[3,\"Price\"]=30\n",
    "df2.loc[0,\"Quantity\"]=20\n",
    "df2.loc[1,\"Quantity\"]=35\n",
    "df2.loc[3,\"Quantity\"]=30\n",
    "\n",
    "print(df2)\n"
   ]
  },
  {
   "cell_type": "code",
   "execution_count": 12,
   "id": "e2864bed-e43b-4c99-9402-6d311e7c86ec",
   "metadata": {},
   "outputs": [
    {
     "name": "stdout",
     "output_type": "stream",
     "text": [
      "   Price        Quantity      \n",
      "    self  other     self other\n",
      "0  100.0  120.0     15.0  20.0\n",
      "1  150.0  175.0     10.0  35.0\n",
      "3  124.0   30.0      4.0  30.0\n",
      "--------------------------------------------------\n",
      "   Price        Quantity      \n",
      "    self  other     self other\n",
      "0  100.0  120.0     15.0  20.0\n",
      "1  150.0  175.0     10.0  35.0\n",
      "3  124.0   30.0      4.0  30.0\n"
     ]
    }
   ],
   "source": [
    "#return the value which are different in both \n",
    "\n",
    "print(df.compare(df2)) \n",
    "print(\"--------------------------------------------------\")\n",
    "print(df.compare(df2,align_axis=1)) # both are same"
   ]
  },
  {
   "cell_type": "code",
   "execution_count": 9,
   "id": "de43b4cc-c39a-4737-83ec-c8173811df22",
   "metadata": {},
   "outputs": [
    {
     "name": "stdout",
     "output_type": "stream",
     "text": [
      "         Price  Quantity\n",
      "0 self   100.0      15.0\n",
      "  other  120.0      20.0\n",
      "1 self   150.0      10.0\n",
      "  other  175.0      35.0\n",
      "3 self   124.0       4.0\n",
      "  other   30.0      30.0\n"
     ]
    }
   ],
   "source": [
    "print(df.compare(df2,align_axis=0))"
   ]
  },
  {
   "cell_type": "code",
   "execution_count": 16,
   "id": "271f063f-5243-46e6-976f-cf7f953ac64f",
   "metadata": {},
   "outputs": [
    {
     "name": "stdout",
     "output_type": "stream",
     "text": [
      "  Price       Quantity      \n",
      "   self other     self other\n",
      "0   100   120       15    20\n",
      "1   150   175       10    35\n",
      "3   124    30        4    30\n",
      "----------------------------------------\n",
      "   Price        Quantity      \n",
      "    self  other     self other\n",
      "0  100.0  120.0     15.0  20.0\n",
      "1  150.0  175.0     10.0  35.0\n",
      "3  124.0   30.0      4.0  30.0\n"
     ]
    }
   ],
   "source": [
    "print(df.compare(df2,keep_equal=True))\n",
    "print(\"----------------------------------------\")\n",
    "print(df.compare(df2,keep_equal=False))\n"
   ]
  },
  {
   "cell_type": "code",
   "execution_count": 17,
   "id": "13a95e23-e13d-4fa7-bf92-a0e266015d52",
   "metadata": {},
   "outputs": [
    {
     "name": "stdout",
     "output_type": "stream",
     "text": [
      "  Fruits        Price        Quantity      \n",
      "    self other   self  other     self other\n",
      "0    NaN   NaN  100.0  120.0     15.0  20.0\n",
      "1    NaN   NaN  150.0  175.0     10.0  35.0\n",
      "2    NaN   NaN    NaN    NaN      NaN   NaN\n",
      "3    NaN   NaN  124.0   30.0      4.0  30.0\n",
      "----------------------------------------\n",
      "   Price        Quantity      \n",
      "    self  other     self other\n",
      "0  100.0  120.0     15.0  20.0\n",
      "1  150.0  175.0     10.0  35.0\n",
      "3  124.0   30.0      4.0  30.0\n"
     ]
    }
   ],
   "source": [
    "print(df.compare(df2,keep_shape=True,))\n",
    "print(\"----------------------------------------\")\n",
    "print(df.compare(df2,keep_shape=False))"
   ]
  }
 ],
 "metadata": {
  "kernelspec": {
   "display_name": "Python 3 (ipykernel)",
   "language": "python",
   "name": "python3"
  },
  "language_info": {
   "codemirror_mode": {
    "name": "ipython",
    "version": 3
   },
   "file_extension": ".py",
   "mimetype": "text/x-python",
   "name": "python",
   "nbconvert_exporter": "python",
   "pygments_lexer": "ipython3",
   "version": "3.12.2"
  }
 },
 "nbformat": 4,
 "nbformat_minor": 5
}
